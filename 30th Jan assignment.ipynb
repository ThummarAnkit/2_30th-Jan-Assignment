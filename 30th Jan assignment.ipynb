{
 "cells": [
  {
   "cell_type": "markdown",
   "id": "615a862c",
   "metadata": {},
   "source": [
    "# 1. Write a program to accept percentage from the user and display the grade according to the following criteria.\n"
   ]
  },
  {
   "cell_type": "code",
   "execution_count": 1,
   "id": "778c47cc",
   "metadata": {},
   "outputs": [
    {
     "name": "stdout",
     "output_type": "stream",
     "text": [
      "Enter your percentage:95\n",
      "Grad:A\n"
     ]
    }
   ],
   "source": [
    "marks = int(input(\"Enter your percentage:\"))\n",
    "\n",
    "if marks>90:\n",
    "    print(\"Grad:A\")\n",
    "elif marks>80 and marks<=90:\n",
    "    print(\"Grad:B\")\n",
    "elif marks>=60 and marks<=80:\n",
    "    print(\"Grad:C\")\n",
    "else:\n",
    "    print(\"Grad:D\")"
   ]
  },
  {
   "cell_type": "markdown",
   "id": "b47a6b52",
   "metadata": {},
   "source": [
    "# 2. Write a program to accept the cost price of a bike and display the road tax to be paid according to the following criteria: "
   ]
  },
  {
   "cell_type": "code",
   "execution_count": 2,
   "id": "12ed86d1",
   "metadata": {},
   "outputs": [
    {
     "name": "stdout",
     "output_type": "stream",
     "text": [
      "Enter cost price of a bike:90000\n",
      "you have to pay Rs.9000.0 road tax\n"
     ]
    }
   ],
   "source": [
    "cost = int(input(\"Enter cost price of a bike:\"))\n",
    "\n",
    "if cost>100000:\n",
    "    print(f\"you have to pay Rs.{0.15*cost} road tax\")\n",
    "elif cost>50000 and cost<=100000:\n",
    "    print(f\"you have to pay Rs.{0.10*cost} road tax\")\n",
    "else:\n",
    "    print(f\"you have to pay Rs.{0.05*cost} road tax\")"
   ]
  },
  {
   "cell_type": "markdown",
   "id": "0232f19a",
   "metadata": {},
   "source": [
    "# 3. Accept any city from the user and display monuments of that city."
   ]
  },
  {
   "cell_type": "code",
   "execution_count": 3,
   "id": "c783ea25",
   "metadata": {},
   "outputs": [
    {
     "name": "stdout",
     "output_type": "stream",
     "text": [
      "Enter a City:Delhi\n",
      "Monuments : Red Fort\n"
     ]
    }
   ],
   "source": [
    "City = input(\"Enter a City:\")\n",
    "\n",
    "if City==\"Delhi\":\n",
    "    print(\"Monuments : Red Fort\")\n",
    "elif City==\"Agra\":\n",
    "    print(\"Monuments : Taj Mahal\")\n",
    "else:\n",
    "    print(\"Monuments : Jai Mahal\")"
   ]
  },
  {
   "cell_type": "markdown",
   "id": "d8346874",
   "metadata": {},
   "source": [
    "# 4. Check how many times a given number can be divided by 3 before it is less than or equal to 10. "
   ]
  },
  {
   "cell_type": "code",
   "execution_count": 7,
   "id": "f34d4df3",
   "metadata": {},
   "outputs": [
    {
     "name": "stdout",
     "output_type": "stream",
     "text": [
      "Enetr a number:100\n",
      "100 is 3 times divided by 3 before it is less than or equal to 10.\n"
     ]
    }
   ],
   "source": [
    "num = int(input(\"Enetr a number:\"))\n",
    "ans=0\n",
    "num1 = num\n",
    "\n",
    "while num>10:\n",
    "    num/=3\n",
    "    ans+=1\n",
    "    \n",
    "print(f\"{num1} is {ans} times divided by 3 before it is less than or equal to 10.\")"
   ]
  },
  {
   "cell_type": "markdown",
   "id": "d37194f9",
   "metadata": {},
   "source": [
    "# 5. Why and When to Use while Loop in Python give a detailed description with example.\n"
   ]
  },
  {
   "cell_type": "markdown",
   "id": "0e17710c",
   "metadata": {},
   "source": [
    "Ans : Python while loop is used to run a block code until a certain condition is met. Here, A while loop evaluates the condition. If the condition evaluates to True, the code inside the while loop is executed."
   ]
  },
  {
   "cell_type": "code",
   "execution_count": 3,
   "id": "b328b090",
   "metadata": {},
   "outputs": [
    {
     "name": "stdout",
     "output_type": "stream",
     "text": [
      "Hello\n",
      "Hello\n",
      "Hello\n"
     ]
    }
   ],
   "source": [
    "#while expression:\n",
    "#    statement(s)\n",
    "\n",
    "count = 0\n",
    "while (count < 3):\n",
    "    count = count + 1\n",
    "    print(\"Hello\")"
   ]
  },
  {
   "cell_type": "markdown",
   "id": "eb56a79e",
   "metadata": {},
   "source": [
    "# 6. Use nested while loop to print 3 different pattern. "
   ]
  },
  {
   "cell_type": "code",
   "execution_count": 9,
   "id": "a447fd62",
   "metadata": {},
   "outputs": [
    {
     "name": "stdout",
     "output_type": "stream",
     "text": [
      "3 \n",
      "3 3 \n",
      "3 3 3 \n",
      "3 3 3 3 \n",
      "3 3 3 3 3 \n"
     ]
    }
   ],
   "source": [
    "i=1\n",
    "while i<=5:\n",
    "    j=1\n",
    "    while j<=i:\n",
    "        print(\"3\",end=\" \")\n",
    "        j=j+1\n",
    "    print(\"\")\n",
    "    i=i+1"
   ]
  },
  {
   "cell_type": "markdown",
   "id": "5bd40d2b",
   "metadata": {},
   "source": [
    "# 7. Reverse a while loop to display numbers from 10 to 1. "
   ]
  },
  {
   "cell_type": "code",
   "execution_count": 8,
   "id": "8e090741",
   "metadata": {},
   "outputs": [
    {
     "name": "stdout",
     "output_type": "stream",
     "text": [
      "10\n",
      "9\n",
      "8\n",
      "7\n",
      "6\n",
      "5\n",
      "4\n",
      "3\n",
      "2\n",
      "1\n"
     ]
    }
   ],
   "source": [
    "num = 10\n",
    "\n",
    "while num>=1:\n",
    "    print(num)\n",
    "    num-=1"
   ]
  },
  {
   "cell_type": "markdown",
   "id": "ae7be805",
   "metadata": {},
   "source": [
    "# 8. Reverse a while loop to display numbers from 10 to 1. "
   ]
  },
  {
   "cell_type": "code",
   "execution_count": 10,
   "id": "af998dbc",
   "metadata": {},
   "outputs": [
    {
     "name": "stdout",
     "output_type": "stream",
     "text": [
      "10\n",
      "9\n",
      "8\n",
      "7\n",
      "6\n",
      "5\n",
      "4\n",
      "3\n",
      "2\n",
      "1\n"
     ]
    }
   ],
   "source": [
    "num = 10\n",
    "\n",
    "while num>=1:\n",
    "    print(num)\n",
    "    num-=1"
   ]
  },
  {
   "cell_type": "code",
   "execution_count": null,
   "id": "f1d24986",
   "metadata": {},
   "outputs": [],
   "source": []
  }
 ],
 "metadata": {
  "kernelspec": {
   "display_name": "Python 3 (ipykernel)",
   "language": "python",
   "name": "python3"
  },
  "language_info": {
   "codemirror_mode": {
    "name": "ipython",
    "version": 3
   },
   "file_extension": ".py",
   "mimetype": "text/x-python",
   "name": "python",
   "nbconvert_exporter": "python",
   "pygments_lexer": "ipython3",
   "version": "3.9.7"
  }
 },
 "nbformat": 4,
 "nbformat_minor": 5
}
